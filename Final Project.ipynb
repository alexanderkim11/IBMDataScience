{
    "cells": [
        {
            "metadata": {},
            "cell_type": "markdown",
            "source": "<h1><center>My Jupyter Notebook on IBM Watson Studio</center></h1>"
        },
        {
            "metadata": {},
            "cell_type": "markdown",
            "source": "**Name: Alex Kim**<br/>\nCurrent Occupation: Student"
        },
        {
            "metadata": {},
            "cell_type": "markdown",
            "source": "*I am interested in data science because it's an emerging field of computer science with a lot of possibilities for both research and career opportunities*"
        },
        {
            "metadata": {},
            "cell_type": "markdown",
            "source": "### This following code will take in a string of two numbers with an operator between them and, if the operator is the additon symbol, it will add the two numbers together and return the output.  Otherwise it will return \"No addition sign found\"."
        },
        {
            "metadata": {},
            "cell_type": "code",
            "source": "def stradder(exp):\n    if exp.find(\"+\") != -1:\n        a = exp.find(\"+\")\n        b = int(exp[0:a])\n        c = int(exp[a+1:])\n        d = b + c\n        return d\n    else:\n        return \"No addition sign found\"\n    \n    print(stradder(\"2+2\"))",
            "execution_count": 16,
            "outputs": []
        },
        {
            "metadata": {},
            "cell_type": "markdown",
            "source": "## Other Jupyter Notebook features:\n* Lists\n* Hyperlinks: [My Github Account (A work in progress!)](https://github.com/alexanderkim11)\n* `Code` and `Syntax` Highlights\n"
        }
    ],
    "metadata": {
        "kernelspec": {
            "name": "python3",
            "display_name": "Python 3.6",
            "language": "python"
        },
        "language_info": {
            "name": "python",
            "version": "3.6.9",
            "mimetype": "text/x-python",
            "codemirror_mode": {
                "name": "ipython",
                "version": 3
            },
            "pygments_lexer": "ipython3",
            "nbconvert_exporter": "python",
            "file_extension": ".py"
        }
    },
    "nbformat": 4,
    "nbformat_minor": 1
}